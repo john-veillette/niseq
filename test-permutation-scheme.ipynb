{
 "cells": [
  {
   "cell_type": "markdown",
   "id": "ef12d744",
   "metadata": {},
   "source": [
    "# Group-Sequential Testing by Permutation\n",
    "\n",
    "This notebook contains simulations to show that the permutation-based approach to group-sequential testing used in this package effectively controls the false-positive rate, even when analyzing the data sequentially (i.e. stopping data collection when the pattern of interest is significant, and continuing otherwise). \n",
    "\n",
    "In these simulations, we apply the permutation scheme to univariate data for ease of computation -- but the nice thing about permutation tests is that they can be used on arbitrary test statistics, so the results here should generalize to e.g. a cluster statistic. To perform permutations and compute adjusted thresholds, we'll use the same `generate_permutation_dist` and `find_thresholds` functions used on the backend of `niseq` so we can be sure the exact same permutation scheme is being used.\n",
    "\n",
    "## How it Works"
   ]
  },
  {
   "cell_type": "code",
   "execution_count": 1,
   "id": "6d8c5e16",
   "metadata": {},
   "outputs": [],
   "source": [
    "from niseq._permutation import generate_permutation_dist, find_thresholds\n",
    "from matplotlib import pyplot as plt\n",
    "import numpy as np"
   ]
  },
  {
   "cell_type": "markdown",
   "id": "83a93ce6",
   "metadata": {},
   "source": [
    "Let's start by simulating some data, and then taking draws from the permutation distribution. An important difference between this sequential permutation approach and a typical permutation test is that the sequential looks at the data are incorporated into the permutation procedure. For instance, if we use `look_times = [50, 100]`, indicating we peak at the data when the sample size is $n = 50$ and $n = 100$, then the test statistic will be computed for just the first 50 and the first 100 samples on each permutation, simulating multiple looks at the data. Thus, the permutation distribution generated is a _joint_ null distribution that accounts for the dependency between sequential looks (since examples are shared across looks). The `generate_permutation_dist` function, which is one of the backend functions for the cluster-based tests in `niseq`, will generate this permutation distribution for us."
   ]
  },
  {
   "cell_type": "code",
   "execution_count": 11,
   "id": "ca8a10f4",
   "metadata": {},
   "outputs": [],
   "source": [
    "# simulate null data\n",
    "np.random.seed(0)\n",
    "look_times = np.linspace(20, 250, 5).astype(int)\n",
    "x = np.random.normal(loc = 0, size = look_times[-1])\n",
    "\n",
    "obs, H0 = generate_permutation_dist(\n",
    "    x, None,\n",
    "    look_times = look_times, \n",
    "    statistic = lambda x: np.mean(x[0])\n",
    ")"
   ]
  },
  {
   "cell_type": "markdown",
   "id": "de710892",
   "metadata": {},
   "source": [
    "The `find_thresholds` function, another backend function used by `niseq`, figures out what adjusted significance thresholds must be used at each look time to contain the false positive rate at your chosen $\\alpha$ for the whole procedure. We can't let the false positive rate for the first look be $\\alpha$, or adding additional looks will drive the false positive rate upwards of $\\alpha$ for the full procedure. This is where an alpha spending function comes in: it defines a target for false positive rate by each look time. So if $\\text{spending}(50) = 0.01$, that means the false positive rate _up till now_ at $n = 50$ should be contained at $0.01$. By the end of the procedure, the false positive rate should be $\\alpha$; that is, $\\text{spending}(n_\\text{max}) = \\alpha$.\n",
    "\n",
    "Let's say we look at the data five times during data collection, and we use a linear spending function. What are our resulting adjusted $\\alpha$'s?"
   ]
  },
  {
   "cell_type": "code",
   "execution_count": 12,
   "id": "c5cc7e47",
   "metadata": {},
   "outputs": [
    {
     "data": {
      "image/png": "[encoded data removed]",
      "text/plain": [
       "<Figure size 432x288 with 1 Axes>"
      ]
     },
     "metadata": {
      "needs_background": "light"
     },
     "output_type": "display_data"
    }
   ],
   "source": [
    "spending, adj_alpha = find_thresholds(H0, look_times, look_times[-1], tail = -1)\n",
    "plt.plot(look_times, spending, label = 'alpha spending function')\n",
    "plt.plot(look_times, adj_alpha, 'o', label = 'adjusted alphas')\n",
    "plt.xlabel('sample size')\n",
    "plt.title('Adjusted significance thresholds for each look time')\n",
    "plt.legend()\n",
    "plt.show()"
   ]
  },
  {
   "cell_type": "markdown",
   "id": "3516236a",
   "metadata": {},
   "source": [
    "You'll notice the adjusted thresholds at each $n$ are less than the alpha spending function at $n$, except for the first look. This is because some data are shared across sequential looks, so we need to account for the dependency between rejecting at $n_i$ and $n_j$, which is what our permutation procedure is doing -- `find_thresholds` picks rejection thresholds for each look time that maintains the false positive rate _up till_ each look at the alpha spending function, given all the previous looks.\n",
    "\n",
    "In the plot above (and in the simulations below), we use a linear alpha spending function, the default used by `find_thresholds`, but any monotonically increasing function such that $\\text{spending}(0) = 0$ and $\\text{spending}(n_\\text{max}) = \\alpha$ would work. Also, while we used evenly spaced look times, we could actually pick any arbitrary look times, and in practice, we don't even need to plan when we're going to peak at the data ahead of time!"
   ]
  },
  {
   "cell_type": "markdown",
   "id": "76431243",
   "metadata": {},
   "source": [
    "## One Sample Test\n",
    "\n",
    "On each simulation below, we'll generate null data and pretend we look at it five times throughout the intended course of data collection, and we'll compare the false positive rates attained when we reject the null hypothesis whenever $p \\leq \\alpha$ and $p \\leq \\alpha_\\text{adjusted}$ at at least one look time."
   ]
  },
  {
   "cell_type": "code",
   "execution_count": 13,
   "id": "a2dfa915",
   "metadata": {},
   "outputs": [
    {
     "name": "stdout",
     "output_type": "stream",
     "text": [
      "0/500 simulations complete\n",
      "100/500 simulations complete\n",
      "200/500 simulations complete\n",
      "300/500 simulations complete\n",
      "400/500 simulations complete\n"
     ]
    }
   ],
   "source": [
    "np.random.seed(0)\n",
    "look_times = np.linspace(20, 100, 5).astype(int)\n",
    "n_simulations = 500\n",
    "unadj_ct = 0\n",
    "adj_ct = 0\n",
    "\n",
    "for i in range(n_simulations):\n",
    "    \n",
    "    if i % 100 == 0:\n",
    "        print('%d/%d simulations complete'%(i, n_simulations))\n",
    "    \n",
    "    # generate null data \n",
    "    x = np.random.normal(loc = 0, size = look_times[-1])\n",
    "    \n",
    "    # and compute permutation distribution\n",
    "    obs, H0 = generate_permutation_dist(\n",
    "        x, None,\n",
    "        look_times = look_times, \n",
    "        statistic = lambda _x: np.mean(_x[0]),\n",
    "        n_permutations = 1000\n",
    "    )\n",
    "    \n",
    "    # compute p-values for each look time\n",
    "    obs_stats = np.array([obs[n] for n in look_times])\n",
    "    p = (np.abs(H0) >= np.abs(obs_stats)).mean(0)\n",
    "    \n",
    "    # and find the adjusted significance thresholds\n",
    "    # for each look\n",
    "    spending, adj_alpha = find_thresholds(\n",
    "        H0, look_times, \n",
    "        look_times[-1], \n",
    "        tail = -1\n",
    "    )\n",
    "    \n",
    "    # reject if p-val crosses sig threshold at any look time\n",
    "    unadj_ct += np.any(p < .05) # keep count of uncorrected \n",
    "    adj_ct += np.any(p < adj_alpha) # and corrected rejections \n",
    "    "
   ]
  },
  {
   "cell_type": "code",
   "execution_count": 14,
   "id": "b01de916",
   "metadata": {},
   "outputs": [
    {
     "data": {
      "text/plain": [
       "0.15"
      ]
     },
     "execution_count": 14,
     "metadata": {},
     "output_type": "execute_result"
    }
   ],
   "source": [
    "# false positive rate without correction\n",
    "unadj_ct / n_simulations"
   ]
  },
  {
   "cell_type": "markdown",
   "id": "55773f22",
   "metadata": {},
   "source": [
    "If we don't correct for sequential looks using our alpha spending approach, rejecting the null and stopping data collection as soon as we see $p \\leq 0.05$ but continuing to collect data otherwise, we end up with an inflated false positive rate. Let's see how our alpha spending procedure fares by comparison:"
   ]
  },
  {
   "cell_type": "code",
   "execution_count": 15,
   "id": "0e14d416",
   "metadata": {},
   "outputs": [
    {
     "data": {
      "text/plain": [
       "0.054"
      ]
     },
     "execution_count": 15,
     "metadata": {},
     "output_type": "execute_result"
    }
   ],
   "source": [
    "# false positive rate with correction\n",
    "adj_ct / n_simulations"
   ]
  },
  {
   "cell_type": "markdown",
   "id": "ebcb04e1",
   "metadata": {},
   "source": [
    "Great! We've contained the false positive rate below our specified $\\alpha$, even while peaking at the data to decide whether to stop data collection. Thus, as long as we can specify a reasonable $n_\\text{max}$ we're willing to collect, we can use this procedure to determine our sample size adaptively!"
   ]
  },
  {
   "cell_type": "markdown",
   "id": "04a20252",
   "metadata": {},
   "source": [
    "## Independent Sample Test"
   ]
  },
  {
   "cell_type": "code",
   "execution_count": 7,
   "id": "59cdf3ec",
   "metadata": {},
   "outputs": [
    {
     "name": "stdout",
     "output_type": "stream",
     "text": [
      "0/5000 simulations complete\n",
      "100/5000 simulations complete\n",
      "200/5000 simulations complete\n",
      "300/5000 simulations complete\n",
      "400/5000 simulations complete\n",
      "500/5000 simulations complete\n",
      "600/5000 simulations complete\n",
      "700/5000 simulations complete\n",
      "800/5000 simulations complete\n",
      "900/5000 simulations complete\n",
      "1000/5000 simulations complete\n",
      "1100/5000 simulations complete\n",
      "1200/5000 simulations complete\n",
      "1300/5000 simulations complete\n",
      "1400/5000 simulations complete\n",
      "1500/5000 simulations complete\n",
      "1600/5000 simulations complete\n",
      "1700/5000 simulations complete\n",
      "1800/5000 simulations complete\n",
      "1900/5000 simulations complete\n",
      "2000/5000 simulations complete\n",
      "2100/5000 simulations complete\n",
      "2200/5000 simulations complete\n",
      "2300/5000 simulations complete\n",
      "2400/5000 simulations complete\n",
      "2500/5000 simulations complete\n",
      "2600/5000 simulations complete\n",
      "2700/5000 simulations complete\n",
      "2800/5000 simulations complete\n",
      "2900/5000 simulations complete\n",
      "3000/5000 simulations complete\n",
      "3100/5000 simulations complete\n",
      "3200/5000 simulations complete\n",
      "3300/5000 simulations complete\n",
      "3400/5000 simulations complete\n",
      "3500/5000 simulations complete\n",
      "3600/5000 simulations complete\n",
      "3700/5000 simulations complete\n",
      "3800/5000 simulations complete\n",
      "3900/5000 simulations complete\n",
      "4000/5000 simulations complete\n",
      "4100/5000 simulations complete\n",
      "4200/5000 simulations complete\n",
      "4300/5000 simulations complete\n",
      "4400/5000 simulations complete\n",
      "4500/5000 simulations complete\n",
      "4600/5000 simulations complete\n",
      "4700/5000 simulations complete\n",
      "4800/5000 simulations complete\n",
      "4900/5000 simulations complete\n"
     ]
    }
   ],
   "source": [
    "np.random.seed(0)\n",
    "unadj_ct = 0\n",
    "adj_ct = 0\n",
    "\n",
    "for i in range(n_simulations):\n",
    "    \n",
    "    if i % 100 == 0:\n",
    "        print('%d/%d simulations complete'%(i, n_simulations))\n",
    "    \n",
    "    # generate null data \n",
    "    x = np.random.normal(loc = 0, size = look_times[-1])\n",
    "    conds = np.random.choice([0, 1], look_times[-1])\n",
    "    \n",
    "    # and compute permutation distribution\n",
    "    obs, H0 = generate_permutation_dist(\n",
    "        x, conds,\n",
    "        look_times = look_times, \n",
    "        statistic = lambda _x: np.mean(_x[0]),\n",
    "        n_permutations = 5000\n",
    "    )\n",
    "    \n",
    "    # compute p-values for each look time\n",
    "    obs_stats = np.array([obs[n] for n in look_times])\n",
    "    p = (np.abs(H0) >= np.abs(obs_stats)).mean(0)\n",
    "    \n",
    "    # and find the adjusted significance thresholds\n",
    "    # for each look\n",
    "    spending, adj_alpha = find_thresholds(\n",
    "        H0, look_times, \n",
    "        look_times[-1], \n",
    "        tail = 0\n",
    "    )\n",
    "    \n",
    "    # reject if p-val crosses sig threshold at any look time\n",
    "    unadj_ct += np.any(p < .05) # keep count of uncorrected \n",
    "    adj_ct += np.any(p < adj_alpha) # and corrected rejections \n",
    "    "
   ]
  },
  {
   "cell_type": "code",
   "execution_count": 8,
   "id": "d9a435f0",
   "metadata": {},
   "outputs": [
    {
     "data": {
      "text/plain": [
       "0.1466"
      ]
     },
     "execution_count": 8,
     "metadata": {},
     "output_type": "execute_result"
    }
   ],
   "source": [
    "# false positive rate without correction\n",
    "unadj_ct / n_simulations"
   ]
  },
  {
   "cell_type": "code",
   "execution_count": 9,
   "id": "0aa04253",
   "metadata": {},
   "outputs": [
    {
     "data": {
      "text/plain": [
       "0.049"
      ]
     },
     "execution_count": 9,
     "metadata": {},
     "output_type": "execute_result"
    }
   ],
   "source": [
    "# false positive rate with correction\n",
    "adj_ct / n_simulations"
   ]
  }
 ],
 "metadata": {
  "kernelspec": {
   "display_name": "Python 3",
   "language": "python",
   "name": "python3"
  },
  "language_info": {
   "codemirror_mode": {
    "name": "ipython",
    "version": 3
   },
   "file_extension": ".py",
   "mimetype": "text/x-python",
   "name": "python",
   "nbconvert_exporter": "python",
   "pygments_lexer": "ipython3",
   "version": "3.8.8"
  }
 },
 "nbformat": 4,
 "nbformat_minor": 5
}
