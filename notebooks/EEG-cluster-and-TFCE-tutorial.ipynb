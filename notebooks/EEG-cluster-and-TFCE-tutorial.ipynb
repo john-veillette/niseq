{
 "cells": [
  {
   "cell_type": "markdown",
   "id": "dc5c2114",
   "metadata": {},
   "source": [
    "# Cluster-based permutation tests with EEG data"
   ]
  },
  {
   "cell_type": "code",
   "execution_count": 1,
   "id": "4a324ba6",
   "metadata": {},
   "outputs": [],
   "source": [
    "from matplotlib import pyplot as plt\n",
    "import numpy as np\n",
    "import os\n",
    "\n",
    "from mne.channels import find_ch_adjacency, make_1020_channel_selections\n",
    "import mne\n",
    "\n",
    "from niseq import sequential_cluster_test_indep\n",
    "\n",
    "np.random.seed(0)"
   ]
  },
  {
   "cell_type": "markdown",
   "id": "1ed79542",
   "metadata": {},
   "source": [
    "We'll use the same data as an [MNE tutorial](https://mne.tools/dev/auto_tutorials/stats-sensor-space/20_erp_stats.html) uses for visualizing significance thresholds, so you can check that tutorial out if you want to compare e.g. the differences in how the input data `X` is formatted."
   ]
  },
  {
   "cell_type": "code",
   "execution_count": 2,
   "id": "9624f0fd",
   "metadata": {},
   "outputs": [
    {
     "name": "stdout",
     "output_type": "stream",
     "text": [
      "Reading /home/johnv/mne_data/MNE-kiloword-data/kword_metadata-epo.fif ...\n",
      "Isotrak not found\n",
      "    Found the data of interest:\n",
      "        t =    -100.00 ...     920.00 ms\n",
      "        0 CTF compensation matrices available\n",
      "Adding metadata with 8 columns\n",
      "960 matching events found\n",
      "No baseline correction applied\n",
      "0 projection items activated\n"
     ]
    }
   ],
   "source": [
    "# load the data\n",
    "data_dir = mne.datasets.kiloword.data_path()\n",
    "fpath = os.path.join(data_dir, 'kword_metadata-epo.fif')\n",
    "epochs = mne.read_epochs(fpath)\n",
    "epochs = epochs.decimate(4, verbose = 'error')"
   ]
  },
  {
   "cell_type": "code",
   "execution_count": 3,
   "id": "7450327e",
   "metadata": {},
   "outputs": [
    {
     "data": {
      "text/plain": [
       "(960, 29, 64)"
      ]
     },
     "execution_count": 3,
     "metadata": {},
     "output_type": "execute_result"
    }
   ],
   "source": [
    "# extract data from MNE object as array\n",
    "X = epochs.get_data()\n",
    "X.shape"
   ]
  },
  {
   "cell_type": "code",
   "execution_count": 4,
   "id": "571ae63c",
   "metadata": {},
   "outputs": [
    {
     "data": {
      "text/plain": [
       "(960,)"
      ]
     },
     "execution_count": 4,
     "metadata": {},
     "output_type": "execute_result"
    }
   ],
   "source": [
    "# construct array of condition labels based on word length\n",
    "name = \"NumberOfLetters\"\n",
    "median_value = str(epochs.metadata[name].median())\n",
    "conds = np.zeros(X.shape[0])\n",
    "conds[epochs[name + \" > \" + median_value].selection] = 1\n",
    "conds.shape"
   ]
  },
  {
   "cell_type": "markdown",
   "id": "be89f286",
   "metadata": {},
   "source": [
    "First we compute the adjacency matrix between neighboring sensors so that our clustering routine knows what channels are next to each other."
   ]
  },
  {
   "cell_type": "code",
   "execution_count": 5,
   "id": "a8052d84",
   "metadata": {},
   "outputs": [
    {
     "name": "stdout",
     "output_type": "stream",
     "text": [
      "Could not find a adjacency matrix for the data. Computing adjacency based on Delaunay triangulations.\n",
      "-- number of adjacent vertices : 29\n"
     ]
    }
   ],
   "source": [
    "neighb, _ = find_ch_adjacency(epochs.info, \"eeg\")"
   ]
  },
  {
   "cell_type": "code",
   "execution_count": 6,
   "id": "57516c8e",
   "metadata": {},
   "outputs": [
    {
     "data": {
      "text/plain": [
       "(960, 29, 64)"
      ]
     },
     "execution_count": 6,
     "metadata": {},
     "output_type": "execute_result"
    }
   ],
   "source": [
    "X.shape"
   ]
  },
  {
   "cell_type": "markdown",
   "id": "6a8c50b9",
   "metadata": {},
   "source": [
    "Since MNE's clustering routine requires that observations (e.g. trials or subjects) be the first dimension, time be the second dimension, and channels (or whatever the adjacency matrix describes) is the last dimension, we have to flip the axes of our EEG data `X`."
   ]
  },
  {
   "cell_type": "code",
   "execution_count": 7,
   "id": "bd1fb1f4",
   "metadata": {},
   "outputs": [
    {
     "data": {
      "text/plain": [
       "(960, 64, 29)"
      ]
     },
     "execution_count": 7,
     "metadata": {},
     "output_type": "execute_result"
    }
   ],
   "source": [
    "X = np.transpose(X, (0, 2, 1))  # transpose for clustering\n",
    "X.shape # observations x time x channels "
   ]
  },
  {
   "cell_type": "code",
   "execution_count": 8,
   "id": "dfe9ab0d",
   "metadata": {},
   "outputs": [
    {
     "name": "stderr",
     "output_type": "stream",
     "text": [
      "/home/johnv/anaconda3/lib/python3.8/site-packages/niseq/_clustering.py:50: RuntimeWarning: Ignoring argument \"tail\", performing 1-tailed F-test\n",
      "  warn('Ignoring argument \"tail\", performing 1-tailed F-test')\n",
      "/home/johnv/anaconda3/lib/python3.8/site-packages/niseq/_clustering.py:50: RuntimeWarning: Ignoring argument \"tail\", performing 1-tailed F-test\n",
      "  warn('Ignoring argument \"tail\", performing 1-tailed F-test')\n",
      "/home/johnv/anaconda3/lib/python3.8/site-packages/niseq/_clustering.py:50: RuntimeWarning: Ignoring argument \"tail\", performing 1-tailed F-test\n",
      "  warn('Ignoring argument \"tail\", performing 1-tailed F-test')\n",
      "/home/johnv/anaconda3/lib/python3.8/site-packages/niseq/_clustering.py:50: RuntimeWarning: Ignoring argument \"tail\", performing 1-tailed F-test\n",
      "  warn('Ignoring argument \"tail\", performing 1-tailed F-test')\n",
      "[Parallel(n_jobs=-1)]: Using backend LokyBackend with 6 concurrent workers.\n",
      "[Parallel(n_jobs=-1)]: Done  12 tasks      | elapsed:    2.4s\n",
      "[Parallel(n_jobs=-1)]: Done 162 tasks      | elapsed:    4.5s\n",
      "[Parallel(n_jobs=-1)]: Done 522 tasks      | elapsed:    9.2s\n",
      "[Parallel(n_jobs=-1)]: Done 1008 tasks      | elapsed:   15.4s\n",
      "[Parallel(n_jobs=-1)]: Done 1024 out of 1024 | elapsed:   15.6s finished\n"
     ]
    }
   ],
   "source": [
    "n_max = X.shape[0]\n",
    "n_looks = 4\n",
    "look_times = [i*n_max//n_looks for i in range(1, n_looks + 1)]\n",
    "\n",
    "looks, ps, adj_alphas, spending = sequential_cluster_test_indep(\n",
    "    X, conds,\n",
    "    look_times, n_max,\n",
    "    n_jobs = -1\n",
    ")"
   ]
  },
  {
   "cell_type": "code",
   "execution_count": 9,
   "id": "8ff58d3e",
   "metadata": {},
   "outputs": [
    {
     "data": {
      "image/png": "[encoded data removed]",
      "text/plain": [
       "<Figure size 432x288 with 1 Axes>"
      ]
     },
     "metadata": {
      "needs_background": "light"
     },
     "output_type": "display_data"
    },
    {
     "name": "stdout",
     "output_type": "stream",
     "text": [
      "failed to reject null at n = 240\n",
      "rejected null at n = 480\n",
      "rejected null at n = 720\n",
      "rejected null at n = 960\n"
     ]
    }
   ],
   "source": [
    "plt.plot([0] + look_times, [0] + spending.tolist(), label = 'alpha spending function')\n",
    "for lt in look_times:\n",
    "    plt.axvline(lt, linestyle = '--', color = 'black')\n",
    "plt.plot(look_times, adj_alphas, 'o', label = 'adjusted alphas')\n",
    "plt.plot(look_times, ps, 'o', label = 'p-values')\n",
    "plt.xlabel('sample size')\n",
    "plt.title('Adjusted significance thresholds for each look time')\n",
    "plt.legend()\n",
    "plt.show()\n",
    "\n",
    "reject = ps < adj_alphas\n",
    "for n, r in zip(look_times, reject):\n",
    "    if r:\n",
    "        print('rejected null at n = %d'%n)\n",
    "    else:\n",
    "        print('failed to reject null at n = %d'%n)"
   ]
  },
  {
   "cell_type": "markdown",
   "id": "e7b6b358",
   "metadata": {},
   "source": [
    "The $p$-value drops below the adjusted $\\alpha$ on the second look, so we would've stopped data collection at $n = 480$ trials using this sequential design instead of collecting the full $n_\\max = 960$.\n",
    "\n",
    "Let's visualize the clusters on the basis of which the null was rejected at the second look."
   ]
  },
  {
   "cell_type": "code",
   "execution_count": 10,
   "id": "fd561acd",
   "metadata": {},
   "outputs": [],
   "source": [
    "t_stop = 1\n",
    "n_stop = look_times[t_stop]\n",
    "adj_alpha = adj_alphas[t_stop]\n",
    "obs, clusters, cluster_pvs, _ = looks[n_stop]\n",
    "sig_clusters = [\n",
    "    clusters[i] for i in range(len(clusters)) \n",
    "    if cluster_pvs[i] < adj_alpha\n",
    "]"
   ]
  },
  {
   "cell_type": "code",
   "execution_count": 11,
   "id": "114f6075",
   "metadata": {},
   "outputs": [
    {
     "data": {
      "image/png": "[encoded data removed]",
      "text/plain": [
       "<Figure size 432x288 with 4 Axes>"
      ]
     },
     "metadata": {
      "needs_background": "light"
     },
     "output_type": "display_data"
    }
   ],
   "source": [
    "from mne.viz.utils import _prepare_joint_axes, _connection_line\n",
    "\n",
    "_X = epochs.get_data()\n",
    "effect_map = _X[conds == 1].mean(0) - _X[conds == 0].mean(0)\n",
    "\n",
    "effect = mne.EvokedArray(effect_map, epochs.info)\n",
    "effect.nave = None\n",
    "\n",
    "# prepare axes\n",
    "fig, main_ax, map_axs, cbar_ax = _prepare_joint_axes(len(sig_clusters), figsize = None)\n",
    "\n",
    "# plot effect map\n",
    "cluster_mask = np.any(np.stack(sig_clusters, axis = 0), axis = 0)\n",
    "fig = effect.plot_image(\n",
    "    mask = cluster_mask.T, \n",
    "    mask_alpha = 1., # don't fade out\n",
    "    mask_cmap = 'RdBu_r', # same as unmasked\n",
    "    show_names = True,\n",
    "    colorbar = True,\n",
    "    axes = main_ax,\n",
    "    show = False\n",
    ")\n",
    "main_ax.set_title(' ')\n",
    "vmin, vmax = main_ax.images[0].get_clim() # remember color limits\n",
    "\n",
    "# plot topomaps for midpoints of clusters\n",
    "idx_clusts = [np.median(np.where(clust.sum(1) > 0)) for clust in sig_clusters]\n",
    "idx_clusts = [int(idx) for idx in idx_clusts]\n",
    "t_clusts = [effect.times[idx] for idx in idx_clusts]\n",
    "t_clusts = sorted(t_clusts)\n",
    "effect.plot_topomap(times = t_clusts, axes = map_axs, \n",
    "                    mask = cluster_mask.T, \n",
    "                    mask_params = {'markersize': 8},\n",
    "                    vlim = (vmin, vmax),\n",
    "                    colorbar = False,\n",
    "                    show = False\n",
    "                   )\n",
    "\n",
    "# hide superfluous axes\n",
    "cbar_ax.grid(False) \n",
    "cbar_ax.axis('off')\n",
    "\n",
    "# draw connecting lines\n",
    "lines = [_connection_line(timepoint, fig, main_ax, map_ax_)\n",
    "             for timepoint, map_ax_ in zip(t_clusts, map_axs)]\n",
    "for line in lines:\n",
    "    fig.lines.append(line)\n",
    "for timepoint in t_clusts:\n",
    "    main_ax.axvline(timepoint, color = 'grey', linestyle = '-',\n",
    "                      linewidth = 1.5, alpha = .66)\n",
    "    \n",
    "    \n",
    "# show final plot\n",
    "plt.show()\n"
   ]
  },
  {
   "cell_type": "markdown",
   "id": "d086ab53",
   "metadata": {},
   "source": [
    "Note that the correspinding [MNE tutorial](https://mne.tools/dev/auto_tutorials/stats-sensor-space/20_erp_stats.html) for a fixed-sample design also highlights an earlier, negatively valued cluster. A sequential design might terminate data collection after a strong cluster results in the null hypothesis being rejected, leaving weaker clusters unnoticed. Of course, just because you _can_ stop when the null hypothesis is first rejected, that doesn't mean you _have to_; you can keep collecting data if you want to get a better estimate of effect size/location. (That said, [one should use caution](https://doi.org/10.1111/psyp.13335) when using cluster-based tests to localize effects in the first place.)\n",
    "\n",
    "## Threshold-Free Cluster Enhancement\n",
    "\n",
    "Just like in the MNE API, you can use TFCE instead of a thresholded cluster-based permutation test by specifying a dictionary as your `threshold` argument. "
   ]
  },
  {
   "cell_type": "code",
   "execution_count": 12,
   "id": "c6a35e0d",
   "metadata": {},
   "outputs": [
    {
     "name": "stderr",
     "output_type": "stream",
     "text": [
      "[Parallel(n_jobs=-1)]: Using backend LokyBackend with 6 concurrent workers.\n",
      "[Parallel(n_jobs=-1)]: Done  12 tasks      | elapsed:    1.0s\n",
      "[Parallel(n_jobs=-1)]: Done  66 tasks      | elapsed:    4.4s\n",
      "[Parallel(n_jobs=-1)]: Done 156 tasks      | elapsed:   10.6s\n",
      "[Parallel(n_jobs=-1)]: Done 282 tasks      | elapsed:   19.3s\n",
      "[Parallel(n_jobs=-1)]: Done 444 tasks      | elapsed:   29.6s\n",
      "[Parallel(n_jobs=-1)]: Done 642 tasks      | elapsed:   42.7s\n",
      "[Parallel(n_jobs=-1)]: Done 876 tasks      | elapsed:   58.3s\n",
      "[Parallel(n_jobs=-1)]: Done 1024 out of 1024 | elapsed:  1.1min finished\n"
     ]
    }
   ],
   "source": [
    "threshold_tfce = dict(start = 0, step = 0.2)\n",
    "looks, ps, adj_alphas, spending = sequential_cluster_test_indep(\n",
    "    X, conds,\n",
    "    look_times, n_max,\n",
    "    threshold = threshold_tfce,\n",
    "    n_jobs = -1\n",
    ")"
   ]
  },
  {
   "cell_type": "code",
   "execution_count": 13,
   "id": "da7f4e41",
   "metadata": {},
   "outputs": [
    {
     "data": {
      "image/png": "[encoded data removed]",
      "text/plain": [
       "<Figure size 432x288 with 1 Axes>"
      ]
     },
     "metadata": {
      "needs_background": "light"
     },
     "output_type": "display_data"
    },
    {
     "name": "stdout",
     "output_type": "stream",
     "text": [
      "failed to reject null at n = 240\n",
      "rejected null at n = 480\n",
      "rejected null at n = 720\n",
      "rejected null at n = 960\n"
     ]
    }
   ],
   "source": [
    "plt.plot([0] + look_times, [0] + spending.tolist(), label = 'alpha spending function')\n",
    "for lt in look_times:\n",
    "    plt.axvline(lt, linestyle = '--', color = 'black')\n",
    "plt.plot(look_times, adj_alphas, 'o', label = 'adjusted alphas')\n",
    "plt.plot(look_times, ps, 'o', label = 'p-values')\n",
    "plt.xlabel('sample size')\n",
    "plt.title('Adjusted significance thresholds for each look time')\n",
    "plt.legend()\n",
    "plt.show()\n",
    "\n",
    "reject = ps < adj_alphas\n",
    "for n, r in zip(look_times, reject):\n",
    "    if r:\n",
    "        print('rejected null at n = %d'%n)\n",
    "    else:\n",
    "        print('failed to reject null at n = %d'%n)"
   ]
  }
 ],
 "metadata": {
  "kernelspec": {
   "display_name": "Python 3",
   "language": "python",
   "name": "python3"
  },
  "language_info": {
   "codemirror_mode": {
    "name": "ipython",
    "version": 3
   },
   "file_extension": ".py",
   "mimetype": "text/x-python",
   "name": "python",
   "nbconvert_exporter": "python",
   "pygments_lexer": "ipython3",
   "version": "3.8.8"
  }
 },
 "nbformat": 4,
 "nbformat_minor": 5
}
