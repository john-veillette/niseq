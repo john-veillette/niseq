{
 "cells": [
  {
   "cell_type": "markdown",
   "id": "89b74d60",
   "metadata": {},
   "source": [
    "# Power analysis by bootstrap and inflation factors\n",
    "\n",
    "This notebook will demonstrate how to conduct a power analysis for a one-sample design by using the `bootstrap_predictive_power_1samp` function from the `niseq.power.bootstrap` module. Then, it will show how inflation factors can be used to design a sequential test with the same power as a given fixed-sample test.\n",
    "\n",
    "In this example, we'll just work with univariate data (so the notebook runs quickly), but usage should be similar for multivariate data. See [the API documentation](https://niseq.readthedocs.io/en/latest/index.html#module-niseq.power.bootstrap) for usage details, as well as details on the Bayesian bootstrap procedure and relevant citations.\n",
    "\n",
    "## Power analysis for a fixed sample design\n"
   ]
  },
  {
   "cell_type": "code",
   "execution_count": 1,
   "id": "92c8ee93",
   "metadata": {},
   "outputs": [],
   "source": [
    "from niseq.spending_functions import PocockSpendingFunction\n",
    "from niseq.max_test import sequential_permutation_t_test_1samp\n",
    "from niseq.power.bootstrap import bootstrap_predictive_power_1samp\n",
    "from matplotlib import pyplot as plt\n",
    "from scipy.stats import norm\n",
    "import numpy as np"
   ]
  },
  {
   "cell_type": "markdown",
   "id": "b5b91443",
   "metadata": {},
   "source": [
    "To run a power analysis by bootstrap, you'll need some existing data (e.g. from an internal pilot study) from which to draw bootstrap resamples. We'll simulate 50 observations for this purpose."
   ]
  },
  {
   "cell_type": "code",
   "execution_count": 2,
   "id": "d483ab13",
   "metadata": {},
   "outputs": [],
   "source": [
    "np.random.seed(0)\n",
    "x = norm.rvs(loc = .7, size = 50) # data to resample from"
   ]
  },
  {
   "cell_type": "markdown",
   "id": "07a463d1",
   "metadata": {},
   "source": [
    "Now, if we want to estimate the statistical power of a specific (sequential or fixed sample) design, we can use `bootstrap_predictive_power_1samp`. To specify a fixed-sample design, just set `look_times = [n_max]`."
   ]
  },
  {
   "cell_type": "code",
   "execution_count": 3,
   "id": "64b18d4e",
   "metadata": {},
   "outputs": [
    {
     "name": "stderr",
     "output_type": "stream",
     "text": [
      "[Parallel(n_jobs=-1)]: Using backend LokyBackend with 8 concurrent workers.\n",
      "[Parallel(n_jobs=-1)]: Done  10 tasks      | elapsed:    5.1s\n",
      "[Parallel(n_jobs=-1)]: Done  64 tasks      | elapsed:    9.2s\n",
      "[Parallel(n_jobs=-1)]: Done 154 tasks      | elapsed:   17.1s\n",
      "[Parallel(n_jobs=-1)]: Done 280 tasks      | elapsed:   28.5s\n",
      "[Parallel(n_jobs=-1)]: Done 442 tasks      | elapsed:   43.1s\n",
      "[Parallel(n_jobs=-1)]: Done 640 tasks      | elapsed:   59.3s\n",
      "[Parallel(n_jobs=-1)]: Done 874 tasks      | elapsed:  1.3min\n"
     ]
    },
    {
     "name": "stdout",
     "output_type": "stream",
     "text": [
      "Fixed sample power is 0.962890625\n"
     ]
    },
    {
     "name": "stderr",
     "output_type": "stream",
     "text": [
      "[Parallel(n_jobs=-1)]: Done 1024 out of 1024 | elapsed:  1.5min finished\n"
     ]
    }
   ],
   "source": [
    "n_fixed = 30\n",
    "alpha = .05\n",
    "\n",
    "res = bootstrap_predictive_power_1samp(\n",
    "    x, \n",
    "    test_func = sequential_permutation_t_test_1samp, # or any 1samp test in niseq!\n",
    "    look_times = [n_fixed], n_max = n_fixed, \n",
    "    alpha = alpha,\n",
    "    seed = 1, n_jobs = -1\n",
    ")\n",
    "power_fixed = res['cumulative_power'][0]\n",
    "print('Fixed sample power is ' + str(power_fixed))"
   ]
  },
  {
   "cell_type": "markdown",
   "id": "9917a241",
   "metadata": {},
   "source": [
    "## Inflation Factors\n",
    "\n",
    "In general, for a sequential design to acheive the same statistical power as a fixed sample design, the sequential design's maximum sample size needs to be larger. How much larger? That can be predicted with an _inflation factor_, which depends only on the sequential design's characteristics (i.e. number/timing of looks, alpha spending function used) and the desired Type II error. Technically, inflation factors are only guaranteed to be valid for parametric approaches to alpha spending (which depend on some normality assumptions that our permutation-based approach doesn't require). But empirically, it seems that inflation factors for parametric alpha spending translate well to permutation alpha spending, despite the lack of associated theoretical guarantees.\n",
    "\n",
    "`niseq` doesn't have any built-in functionality to compute inflation factors, but you can use another package to get them. The R packages `rpact` and `gsDesign` are good options. "
   ]
  },
  {
   "cell_type": "code",
   "execution_count": 4,
   "id": "8ef8cdc0",
   "metadata": {},
   "outputs": [
    {
     "name": "stdout",
     "output_type": "stream",
     "text": [
      "inflation factor: 1.138948\n"
     ]
    }
   ],
   "source": [
    "def get_inflation_factor(beta, n_looks = 3, spending_type = 'asP'):\n",
    "    '''\n",
    "    Computes inflation factor for a sequential design with evenly spaced looks.\n",
    "    \n",
    "    Arguments\n",
    "    ---------\n",
    "    beta : float\n",
    "        The Type II error of the fixed sample design \n",
    "        that's power you're trying to match.\n",
    "    n_looks : int\n",
    "        The number of (evenly spaced) looks at the data.\n",
    "    spending_type : 'asP' | 'asOF', default: 'asP'\n",
    "        'asP' uses a Pocock spending function (default)\n",
    "        'asOF' uses an OBrien Fleming spending function\n",
    "        \n",
    "    Returns\n",
    "    --------\n",
    "    inflation : float\n",
    "        The factor by which one must multiply the sample size of a fixed\n",
    "        sample design with Type II error ``beta`` to yield the maximum sample\n",
    "        size required for a sequential test of the specified design to \n",
    "        acheive the same Type II error. \n",
    "        \n",
    "    Notes\n",
    "    -------\n",
    "    Requires R to be installed in your environment. \n",
    "    \n",
    "    '''\n",
    "    from rpy2 import robjects\n",
    "    fv = robjects.r(\n",
    "        '''\n",
    "        if (!('rpact' %%in%% installed.packages())) {install.packages('rpact', type = 'source')}\n",
    "        design <- rpact::getDesignGroupSequential(kMax = %d, beta = %f, typeOfDesign = '%s')\n",
    "        chars <- rpact::getDesignCharacteristics(design)\n",
    "        chars$inflationFactor\n",
    "        '''%(n_looks, beta, spending_type)\n",
    "    )\n",
    "    return fv[0]\n",
    "\n",
    "inflation = get_inflation_factor(1 - power_fixed)\n",
    "print('inflation factor: %f'%inflation)"
   ]
  },
  {
   "cell_type": "code",
   "execution_count": 5,
   "id": "478f431b",
   "metadata": {},
   "outputs": [
    {
     "data": {
      "text/plain": [
       "35"
      ]
     },
     "execution_count": 5,
     "metadata": {},
     "output_type": "execute_result"
    }
   ],
   "source": [
    "# use inflation factor to predict max n needed to match fixed n's power\n",
    "n_max = int(np.floor(n_fixed * inflation) + 1) # round up\n",
    "n_max"
   ]
  },
  {
   "cell_type": "markdown",
   "id": "ccb11e6f",
   "metadata": {},
   "source": [
    "**Note:** Pocock spending functions usually entail higher inflation factors than many other spending functions; O'Brien Fleming, in contrast, tends to result in modest inflation factors. Moreover, the more interim looks you do, the higher the inflation factor. \n",
    "\n",
    "Now, let's run a power analysis for the specified sequential design to see if the power matches as expected. \n",
    "\n",
    "## Power analysis for a sequential design"
   ]
  },
  {
   "cell_type": "code",
   "execution_count": 6,
   "id": "76164717",
   "metadata": {},
   "outputs": [
    {
     "name": "stderr",
     "output_type": "stream",
     "text": [
      "[Parallel(n_jobs=-1)]: Using backend LokyBackend with 8 concurrent workers.\n",
      "[Parallel(n_jobs=-1)]: Done  10 tasks      | elapsed:    1.8s\n",
      "[Parallel(n_jobs=-1)]: Done  64 tasks      | elapsed:    8.1s\n",
      "[Parallel(n_jobs=-1)]: Done 154 tasks      | elapsed:   20.4s\n",
      "[Parallel(n_jobs=-1)]: Done 280 tasks      | elapsed:   37.4s\n",
      "[Parallel(n_jobs=-1)]: Done 442 tasks      | elapsed:   58.3s\n",
      "[Parallel(n_jobs=-1)]: Done 640 tasks      | elapsed:  1.4min\n",
      "[Parallel(n_jobs=-1)]: Done 874 tasks      | elapsed:  1.9min\n",
      "[Parallel(n_jobs=-1)]: Done 1024 out of 1024 | elapsed:  2.2min finished\n"
     ]
    }
   ],
   "source": [
    "look_times = [n_max//3, 2*n_max//3, n_max]\n",
    "\n",
    "results = bootstrap_predictive_power_1samp(\n",
    "    x, sequential_permutation_t_test_1samp, \n",
    "    look_times, n_max, \n",
    "    alpha = alpha,\n",
    "    seed = 1, n_jobs = -1,\n",
    "    spending_func = PocockSpendingFunction(alpha, n_max)\n",
    ")"
   ]
  },
  {
   "cell_type": "code",
   "execution_count": 7,
   "id": "f36c8005",
   "metadata": {},
   "outputs": [
    {
     "data": {
      "image/png": "[encoded data removed]",
      "text/plain": [
       "<Figure size 432x288 with 1 Axes>"
      ]
     },
     "metadata": {
      "needs_background": "light"
     },
     "output_type": "display_data"
    },
    {
     "name": "stdout",
     "output_type": "stream",
     "text": [
      "Expected sample size: 19.94\n",
      "Sample size savings: 33.53 percent\n"
     ]
    }
   ],
   "source": [
    "plt.plot(look_times, results['cumulative_power'], label = 'cumulative power')\n",
    "plt.axhline(power_fixed, color = 'red', label = 'fixed design (n = %d)'%n_fixed, linestyle = '--')\n",
    "plt.scatter(look_times, results['rejection_probability'], label = 'rejection probability')\n",
    "plt.ylabel('power')\n",
    "plt.xlabel('sample size')\n",
    "plt.ylim((0, 1))\n",
    "plt.legend()\n",
    "plt.show()\n",
    "\n",
    "n_exp = results['n_expected']\n",
    "print('Expected sample size: %.2f'%n_exp)\n",
    "print('Sample size savings: %.2f percent'%(100*(n_fixed - n_exp)/n_fixed))"
   ]
  },
  {
   "cell_type": "markdown",
   "id": "81928b02",
   "metadata": {},
   "source": [
    "Note that, even though the _maximum_ sample size for the sequential design is larger than the fixed-sample design with the same power (i.e. inflation factor is greater than one), the _expected_ sample size is actually a good bit smaller. This is where the efficiency advantage of sequential designs shine; the probability of rejecting the null hypothesis at an interim analysis is substantial. (And this efficiency gain is usually larger for high-powered designs.)"
   ]
  },
  {
   "cell_type": "code",
   "execution_count": 8,
   "id": "cc213406",
   "metadata": {},
   "outputs": [
    {
     "data": {
      "text/plain": [
       "{'uncorr_instantaneous_power': [0.58984375, 0.91015625, 0.9794921875],\n",
       " 'rejection_probability': [0.419921875, 0.4150390625, 0.126953125],\n",
       " 'cumulative_power': [0.419921875, 0.8349609375, 0.9619140625],\n",
       " 'uncorr_cumulative_power': [0.58984375, 0.9140625, 0.982421875],\n",
       " 'n_expected': 19.94140625,\n",
       " 'n_simulations': 1024,\n",
       " 'n_orig_data': 50,\n",
       " 'conditional': False,\n",
       " 'test_func': 'sequential_permutation_t_test_1samp',\n",
       " 'test_func_kwargs': {'alpha': 0.05,\n",
       "  'spending_func': 'PocockSpendingFunction',\n",
       "  'look_times': [11, 23, 35],\n",
       "  'n_max': 35}}"
      ]
     },
     "execution_count": 8,
     "metadata": {},
     "output_type": "execute_result"
    }
   ],
   "source": [
    "results"
   ]
  }
 ],
 "metadata": {
  "kernelspec": {
   "display_name": "Python 3",
   "language": "python",
   "name": "python3"
  },
  "language_info": {
   "codemirror_mode": {
    "name": "ipython",
    "version": 3
   },
   "file_extension": ".py",
   "mimetype": "text/x-python",
   "name": "python",
   "nbconvert_exporter": "python",
   "pygments_lexer": "ipython3",
   "version": "3.8.8"
  }
 },
 "nbformat": 4,
 "nbformat_minor": 5
}
